{
 "cells": [
  {
   "cell_type": "code",
   "execution_count": null,
   "metadata": {},
   "outputs": [],
   "source": [
    "looping through dictionary"
   ]
  },
  {
   "cell_type": "code",
   "execution_count": 1,
   "metadata": {},
   "outputs": [
    {
     "name": "stdout",
     "output_type": "stream",
     "text": [
      "{'f_name': 'rakesh', 'l_name': 'raj', 'username': 'rakeshr', 'pwd': 'raj123'}\n"
     ]
    }
   ],
   "source": [
    "user_11 = {'f_name':'rakesh','l_name':'raj','username':'rakeshr','pwd':'raj123'}\n",
    "\n",
    "print(user_11)"
   ]
  },
  {
   "cell_type": "code",
   "execution_count": null,
   "metadata": {},
   "outputs": [],
   "source": [
    "how to loop through dictionaries"
   ]
  },
  {
   "cell_type": "code",
   "execution_count": 2,
   "metadata": {},
   "outputs": [
    {
     "name": "stdout",
     "output_type": "stream",
     "text": [
      "key:f_name\n",
      "value:rakesh\n",
      "key:l_name\n",
      "value:raj\n",
      "key:username\n",
      "value:rakeshr\n",
      "key:pwd\n",
      "value:raj123\n"
     ]
    }
   ],
   "source": [
    "for key, value in user_11.items():\n",
    "    print(f\"key:{key}\")\n",
    "    print(f\"value:{value}\")"
   ]
  },
  {
   "cell_type": "code",
   "execution_count": 3,
   "metadata": {},
   "outputs": [
    {
     "name": "stdout",
     "output_type": "stream",
     "text": [
      "key:f_name\n",
      "value:rakesh\n",
      "key:l_name\n",
      "value:raj\n",
      "key:username\n",
      "value:rakeshr\n",
      "key:pwd\n",
      "value:raj123\n"
     ]
    }
   ],
   "source": [
    "for x,y in user_11.items():\n",
    "    print(f\"key:{x}\")\n",
    "    print(f\"value:{y}\")"
   ]
  },
  {
   "cell_type": "code",
   "execution_count": null,
   "metadata": {},
   "outputs": [],
   "source": [
    "Enhancement of the code"
   ]
  },
  {
   "cell_type": "code",
   "execution_count": 7,
   "metadata": {},
   "outputs": [
    {
     "name": "stdout",
     "output_type": "stream",
     "text": [
      "\n",
      "key:f_name\n",
      "value:rakesh\n",
      "\n",
      "key:l_name\n",
      "value:raj\n",
      "\n",
      "key:username\n",
      "value:rakeshr\n",
      "\n",
      "key:pwd\n",
      "value:raj123\n"
     ]
    }
   ],
   "source": [
    "for key, value in user_11.items():\n",
    "    print(f\"\\nkey:{key}\")\n",
    "    print(f\"value:{value}\")"
   ]
  },
  {
   "cell_type": "code",
   "execution_count": null,
   "metadata": {},
   "outputs": [],
   "source": []
  },
  {
   "cell_type": "code",
   "execution_count": null,
   "metadata": {},
   "outputs": [],
   "source": [
    "req: Only to get the keys"
   ]
  },
  {
   "cell_type": "code",
   "execution_count": 8,
   "metadata": {},
   "outputs": [
    {
     "name": "stdout",
     "output_type": "stream",
     "text": [
      "f_name\n",
      "l_name\n",
      "username\n",
      "pwd\n"
     ]
    }
   ],
   "source": [
    "for a in user_11.keys():\n",
    "    print(a)"
   ]
  },
  {
   "cell_type": "code",
   "execution_count": null,
   "metadata": {},
   "outputs": [],
   "source": [
    "req:Only to get values"
   ]
  },
  {
   "cell_type": "code",
   "execution_count": 9,
   "metadata": {},
   "outputs": [
    {
     "name": "stdout",
     "output_type": "stream",
     "text": [
      "rakesh\n",
      "raj\n",
      "rakeshr\n",
      "raj123\n"
     ]
    }
   ],
   "source": [
    "for b in user_11.values():\n",
    "    print(b)"
   ]
  },
  {
   "cell_type": "code",
   "execution_count": null,
   "metadata": {},
   "outputs": [],
   "source": []
  },
  {
   "cell_type": "code",
   "execution_count": null,
   "metadata": {},
   "outputs": [],
   "source": [
    "req:Scenerio\n",
    "    Conducting a survey for finding favourite laguage"
   ]
  },
  {
   "cell_type": "code",
   "execution_count": 10,
   "metadata": {},
   "outputs": [
    {
     "name": "stdout",
     "output_type": "stream",
     "text": [
      "{'raju': 'python', 'manu': 'c', 'vivek': 'c++', 'ram': 'pyhton'}\n"
     ]
    }
   ],
   "source": [
    "fav_lang = {'raju':'python','manu':'c','vivek':'c++','ram':'pyhton'}\n",
    "\n",
    "print(fav_lang)"
   ]
  },
  {
   "cell_type": "code",
   "execution_count": 11,
   "metadata": {},
   "outputs": [
    {
     "name": "stdout",
     "output_type": "stream",
     "text": [
      "Raju'favourite language is PYTHON\n",
      "Manu'favourite language is C\n",
      "Vivek'favourite language is C++\n",
      "Ram'favourite language is PYHTON\n"
     ]
    }
   ],
   "source": [
    "for m,n in fav_lang.items():\n",
    "    print(f\"{m.title()}'favourite language is {n.upper()}\")"
   ]
  },
  {
   "cell_type": "code",
   "execution_count": null,
   "metadata": {},
   "outputs": [],
   "source": []
  },
  {
   "cell_type": "code",
   "execution_count": null,
   "metadata": {},
   "outputs": [],
   "source": []
  },
  {
   "cell_type": "code",
   "execution_count": null,
   "metadata": {},
   "outputs": [],
   "source": []
  }
 ],
 "metadata": {
  "kernelspec": {
   "display_name": "Python 3",
   "language": "python",
   "name": "python3"
  },
  "language_info": {
   "codemirror_mode": {
    "name": "ipython",
    "version": 3
   },
   "file_extension": ".py",
   "mimetype": "text/x-python",
   "name": "python",
   "nbconvert_exporter": "python",
   "pygments_lexer": "ipython3",
   "version": "3.7.6"
  }
 },
 "nbformat": 4,
 "nbformat_minor": 4
}
