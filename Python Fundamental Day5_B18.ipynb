{
 "cells": [
  {
   "cell_type": "code",
   "execution_count": null,
   "metadata": {},
   "outputs": [],
   "source": []
  },
  {
   "cell_type": "code",
   "execution_count": 6,
   "metadata": {},
   "outputs": [
    {
     "name": "stdout",
     "output_type": "stream",
     "text": [
      "['ramu', 'rahul', 'biju', 'hanu', 'manu']\n"
     ]
    }
   ],
   "source": [
    "student = ['ramu','rahul','biju','hanu','manu']\n",
    "\n",
    "print(student)"
   ]
  },
  {
   "cell_type": "code",
   "execution_count": 14,
   "metadata": {},
   "outputs": [
    {
     "name": "stdout",
     "output_type": "stream",
     "text": [
      "ramu\n",
      "rahul\n",
      "biju\n",
      "hanu\n",
      "manu\n"
     ]
    }
   ],
   "source": [
    "student = ['ramu','rahul','biju','hanu','manu']\n",
    "\n",
    "for x in student:\n",
    "    \n",
    "    print(x)"
   ]
  },
  {
   "cell_type": "code",
   "execution_count": 30,
   "metadata": {},
   "outputs": [
    {
     "name": "stdout",
     "output_type": "stream",
     "text": [
      "keep up the work, Ramu\n",
      "keep up the work, Rahul\n",
      "keep up the work, Biju\n",
      "keep up the work, Hanu\n",
      "keep up the work, Manu\n"
     ]
    }
   ],
   "source": [
    "\n",
    "\n",
    " for x in student:\n",
    "        print(f\"keep up the work, {x.title()}\")"
   ]
  },
  {
   "cell_type": "code",
   "execution_count": 36,
   "metadata": {},
   "outputs": [
    {
     "name": "stdout",
     "output_type": "stream",
     "text": [
      "Keep up the work, Ramu\n",
      "looking forward for today's work, Ramu\n",
      "Keep up the work, Rahul\n",
      "looking forward for today's work, Rahul\n",
      "Keep up the work, Biju\n",
      "looking forward for today's work, Biju\n",
      "Keep up the work, Hanu\n",
      "looking forward for today's work, Hanu\n",
      "Keep up the work, Manu\n",
      "looking forward for today's work, Manu\n"
     ]
    }
   ],
   "source": [
    "student = ['ramu','rahul','biju','hanu','manu']\n",
    "\n",
    "for x in student:\n",
    "    print(f\"Keep up the work, {x.title()}\")\n",
    "    print(f\"looking forward for today's work, {x.title()}\")"
   ]
  },
  {
   "cell_type": "code",
   "execution_count": null,
   "metadata": {},
   "outputs": [],
   "source": []
  },
  {
   "cell_type": "code",
   "execution_count": 39,
   "metadata": {},
   "outputs": [
    {
     "name": "stdout",
     "output_type": "stream",
     "text": [
      "Keep up the work, Ramu\n",
      "looking forward for today's work, Ramu.\n",
      "\n",
      "Keep up the work, Rahul\n",
      "looking forward for today's work, Rahul.\n",
      "\n",
      "Keep up the work, Biju\n",
      "looking forward for today's work, Biju.\n",
      "\n",
      "Keep up the work, Hanu\n",
      "looking forward for today's work, Hanu.\n",
      "\n",
      "Keep up the work, Manu\n",
      "looking forward for today's work, Manu.\n",
      "\n"
     ]
    }
   ],
   "source": [
    "student = ['ramu','rahul','biju','hanu','manu']\n",
    "\n",
    "for x in student:\n",
    "    print(f\"Keep up the work, {x.title()}\")\n",
    "    print(f\"looking forward for today's work, {x.title()}.\\n\")"
   ]
  },
  {
   "cell_type": "code",
   "execution_count": null,
   "metadata": {},
   "outputs": [],
   "source": []
  },
  {
   "cell_type": "code",
   "execution_count": 44,
   "metadata": {},
   "outputs": [
    {
     "name": "stdout",
     "output_type": "stream",
     "text": [
      "keep the work plz, Ramu\n"
     ]
    }
   ],
   "source": [
    "print(f\"keep the work plz, {student[0].title()}\")"
   ]
  },
  {
   "cell_type": "code",
   "execution_count": null,
   "metadata": {},
   "outputs": [],
   "source": []
  },
  {
   "cell_type": "code",
   "execution_count": 69,
   "metadata": {},
   "outputs": [
    {
     "name": "stdout",
     "output_type": "stream",
     "text": [
      "BENZ\n",
      "Honda\n"
     ]
    }
   ],
   "source": [
    "cars = ['benz','bmw','maruti','honda']\n",
    "\n",
    "for y in cars:\n",
    "    if y == 'benz':\n",
    "        \n",
    "        print(y.upper())\n",
    "else:\n",
    "        print(y.title()) \n",
    "        \n",
    "        "
   ]
  },
  {
   "cell_type": "code",
   "execution_count": null,
   "metadata": {},
   "outputs": [],
   "source": []
  },
  {
   "cell_type": "code",
   "execution_count": null,
   "metadata": {},
   "outputs": [],
   "source": []
  },
  {
   "cell_type": "code",
   "execution_count": null,
   "metadata": {},
   "outputs": [],
   "source": []
  },
  {
   "cell_type": "code",
   "execution_count": null,
   "metadata": {},
   "outputs": [],
   "source": []
  },
  {
   "cell_type": "code",
   "execution_count": null,
   "metadata": {},
   "outputs": [],
   "source": []
  }
 ],
 "metadata": {
  "kernelspec": {
   "display_name": "Python 3",
   "language": "python",
   "name": "python3"
  },
  "language_info": {
   "codemirror_mode": {
    "name": "ipython",
    "version": 3
   },
   "file_extension": ".py",
   "mimetype": "text/x-python",
   "name": "python",
   "nbconvert_exporter": "python",
   "pygments_lexer": "ipython3",
   "version": "3.7.6"
  }
 },
 "nbformat": 4,
 "nbformat_minor": 4
}
