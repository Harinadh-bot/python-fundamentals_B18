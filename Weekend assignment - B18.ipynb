{
 "cells": [
  {
   "cell_type": "code",
   "execution_count": null,
   "metadata": {},
   "outputs": [],
   "source": [
    "req: to create a function regarding the size of the shirt and print the message on it."
   ]
  },
  {
   "cell_type": "code",
   "execution_count": 14,
   "metadata": {},
   "outputs": [],
   "source": [
    "def make_shirt(size,caption):\n",
    "    \"\"\"To display the size and caption to be given in the shirt\"\"\"\n",
    "    print(f\"\\n size of the shirt you need is '{size}'\")\n",
    "    print(f\"\\n the caption you need to give to the shirt is '{caption.title()}'\")"
   ]
  },
  {
   "cell_type": "code",
   "execution_count": 15,
   "metadata": {},
   "outputs": [
    {
     "name": "stdout",
     "output_type": "stream",
     "text": [
      "\n",
      " size of the shirt you need is '42'\n",
      "\n",
      " the caption you need to give to the shirt is 'Have A Good Day'\n"
     ]
    }
   ],
   "source": [
    "make_shirt(42,'have a good day')"
   ]
  },
  {
   "cell_type": "code",
   "execution_count": 18,
   "metadata": {},
   "outputs": [
    {
     "name": "stdout",
     "output_type": "stream",
     "text": [
      "\n",
      " size of the shirt you need is '42'\n",
      "\n",
      " the caption you need to give to the shirt is 'Have A Nice Day'\n"
     ]
    }
   ],
   "source": [
    "make_shirt(caption='Have a nice day', size='42')"
   ]
  },
  {
   "cell_type": "code",
   "execution_count": null,
   "metadata": {},
   "outputs": [],
   "source": [
    "req: to modify the make_shirt"
   ]
  },
  {
   "cell_type": "code",
   "execution_count": 20,
   "metadata": {},
   "outputs": [],
   "source": [
    "def make_shirt():\n",
    "    \"\"\"to display a default message and size\"\"\"\n",
    "    print(f\"\\n size of the shirt you need is 'L'\")\n",
    "    print(f\"\\n the caption you need to give to the shirt is 'I love python'\")          \n",
    "          "
   ]
  },
  {
   "cell_type": "code",
   "execution_count": 22,
   "metadata": {},
   "outputs": [
    {
     "name": "stdout",
     "output_type": "stream",
     "text": [
      "\n",
      " size of the shirt you need is 'L'\n",
      "\n",
      " the caption you need to give to the shirt is 'I love python'\n"
     ]
    }
   ],
   "source": [
    "make_shirt()"
   ]
  },
  {
   "cell_type": "code",
   "execution_count": 4,
   "metadata": {},
   "outputs": [],
   "source": [
    "def make_shirt(size):\n",
    "    \"\"\"To display the L and M sized  shirt with a default message\"\"\"\n",
    "    print(f\"\\n give the size of the shirt you need L or M - '{size}'\")\n",
    "    print(f\"\\n the caption you need to give to the shirt is 'I love python'\")"
   ]
  },
  {
   "cell_type": "code",
   "execution_count": 5,
   "metadata": {},
   "outputs": [
    {
     "name": "stdout",
     "output_type": "stream",
     "text": [
      "\n",
      " give the size of the shirt you need L or M - 'L'\n",
      "\n",
      " the caption you need to give to the shirt is 'I love python'\n"
     ]
    }
   ],
   "source": [
    "make_shirt('L')"
   ]
  },
  {
   "cell_type": "code",
   "execution_count": null,
   "metadata": {},
   "outputs": [],
   "source": []
  },
  {
   "cell_type": "code",
   "execution_count": 7,
   "metadata": {},
   "outputs": [],
   "source": [
    "def make_shirt(size):\n",
    "    \"\"\"To display the L and M sized  shirt with a default message\"\"\"\n",
    "    print(f\"\\n give the size of the shirt you need is '{size}'\")\n",
    "    print(f\"\\n the caption you need to give to the shirt is 'How are you dear'\")"
   ]
  },
  {
   "cell_type": "code",
   "execution_count": 9,
   "metadata": {},
   "outputs": [
    {
     "name": "stdout",
     "output_type": "stream",
     "text": [
      "\n",
      " give the size of the shirt you need is 'XXL'\n",
      "\n",
      " the caption you need to give to the shirt is 'How are you dear'\n"
     ]
    }
   ],
   "source": [
    "make_shirt('XXL')"
   ]
  },
  {
   "cell_type": "code",
   "execution_count": null,
   "metadata": {},
   "outputs": [],
   "source": []
  },
  {
   "cell_type": "code",
   "execution_count": null,
   "metadata": {},
   "outputs": [],
   "source": [
    "req: To describe a city in a country"
   ]
  },
  {
   "cell_type": "code",
   "execution_count": 11,
   "metadata": {},
   "outputs": [],
   "source": [
    "def describe_city(city,country):\n",
    "    \"\"\"To display the name of the city and the country in which it is situated\"\"\"\n",
    "    print(f\"'{city.title()}' is in {country.title()}\")\n"
   ]
  },
  {
   "cell_type": "code",
   "execution_count": 12,
   "metadata": {},
   "outputs": [
    {
     "name": "stdout",
     "output_type": "stream",
     "text": [
      "'Agra' is in India\n"
     ]
    }
   ],
   "source": [
    "describe_city('agra','india')"
   ]
  },
  {
   "cell_type": "code",
   "execution_count": 13,
   "metadata": {},
   "outputs": [],
   "source": [
    "def describe_city(city):\n",
    "    \"\"\"To display the name of the city and the country in which it is situated\"\"\"\n",
    "    print(f\"'{city.title()}' is in India\")\n"
   ]
  },
  {
   "cell_type": "code",
   "execution_count": 14,
   "metadata": {},
   "outputs": [
    {
     "name": "stdout",
     "output_type": "stream",
     "text": [
      "'New Delhi' is in India\n"
     ]
    }
   ],
   "source": [
    "describe_city('new delhi')"
   ]
  },
  {
   "cell_type": "code",
   "execution_count": 15,
   "metadata": {},
   "outputs": [
    {
     "name": "stdout",
     "output_type": "stream",
     "text": [
      "'Kolkata' is in India\n"
     ]
    }
   ],
   "source": [
    "describe_city('Kolkata')"
   ]
  },
  {
   "cell_type": "code",
   "execution_count": 16,
   "metadata": {},
   "outputs": [
    {
     "name": "stdout",
     "output_type": "stream",
     "text": [
      "'Moscow' is in India\n"
     ]
    }
   ],
   "source": [
    "describe_city('moscow')"
   ]
  },
  {
   "cell_type": "code",
   "execution_count": null,
   "metadata": {},
   "outputs": [],
   "source": []
  },
  {
   "cell_type": "code",
   "execution_count": null,
   "metadata": {},
   "outputs": [],
   "source": []
  }
 ],
 "metadata": {
  "kernelspec": {
   "display_name": "Python 3",
   "language": "python",
   "name": "python3"
  },
  "language_info": {
   "codemirror_mode": {
    "name": "ipython",
    "version": 3
   },
   "file_extension": ".py",
   "mimetype": "text/x-python",
   "name": "python",
   "nbconvert_exporter": "python",
   "pygments_lexer": "ipython3",
   "version": "3.7.6"
  }
 },
 "nbformat": 4,
 "nbformat_minor": 4
}
