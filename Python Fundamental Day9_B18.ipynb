{
 "cells": [
  {
   "cell_type": "code",
   "execution_count": 1,
   "metadata": {},
   "outputs": [
    {
     "name": "stdout",
     "output_type": "stream",
     "text": [
      "{'username': 'nandhu', 'pwd': 'card123', 'email': 'nandhu@123.com', 'fullname': 'nandhu ramesh'}\n"
     ]
    }
   ],
   "source": [
    "useraccount = {'username':'nandhu','pwd':'card123','email':'nandhu@123.com','fullname':'nandhu ramesh'}\n",
    "\n",
    "print(useraccount)"
   ]
  },
  {
   "cell_type": "code",
   "execution_count": 2,
   "metadata": {},
   "outputs": [
    {
     "name": "stdout",
     "output_type": "stream",
     "text": [
      "card123\n"
     ]
    }
   ],
   "source": [
    "print(useraccount['pwd'])"
   ]
  },
  {
   "cell_type": "code",
   "execution_count": 3,
   "metadata": {},
   "outputs": [
    {
     "ename": "KeyError",
     "evalue": "'nandhu'",
     "output_type": "error",
     "traceback": [
      "\u001b[1;31m---------------------------------------------------------------------------\u001b[0m",
      "\u001b[1;31mKeyError\u001b[0m                                  Traceback (most recent call last)",
      "\u001b[1;32m<ipython-input-3-fa64a5473461>\u001b[0m in \u001b[0;36m<module>\u001b[1;34m\u001b[0m\n\u001b[1;32m----> 1\u001b[1;33m \u001b[0mprint\u001b[0m\u001b[1;33m(\u001b[0m\u001b[0museraccount\u001b[0m\u001b[1;33m[\u001b[0m\u001b[1;34m'nandhu'\u001b[0m\u001b[1;33m]\u001b[0m\u001b[1;33m)\u001b[0m\u001b[1;33m\u001b[0m\u001b[1;33m\u001b[0m\u001b[0m\n\u001b[0m",
      "\u001b[1;31mKeyError\u001b[0m: 'nandhu'"
     ]
    }
   ],
   "source": [
    "print(useraccount['nandhu'])"
   ]
  },
  {
   "cell_type": "code",
   "execution_count": 5,
   "metadata": {},
   "outputs": [
    {
     "name": "stdout",
     "output_type": "stream",
     "text": [
      "{'username': 'nandhu', 'pwd': 'kerala', 'email': 'nandhu@123.com', 'fullname': 'nandhu ramesh'}\n"
     ]
    }
   ],
   "source": [
    "useraccount['pwd'] = 'kerala'\n",
    "\n",
    "print(useraccount)"
   ]
  },
  {
   "cell_type": "code",
   "execution_count": null,
   "metadata": {},
   "outputs": [],
   "source": []
  },
  {
   "cell_type": "code",
   "execution_count": 6,
   "metadata": {},
   "outputs": [
    {
     "name": "stdout",
     "output_type": "stream",
     "text": [
      "{'alien': 'green', 'points': '5'}\n"
     ]
    }
   ],
   "source": [
    "alien_12 = {'alien':'green','points':'5'}\n",
    "\n",
    "print(alien_12)"
   ]
  },
  {
   "cell_type": "code",
   "execution_count": 7,
   "metadata": {},
   "outputs": [
    {
     "name": "stdout",
     "output_type": "stream",
     "text": [
      "{'alien': 'green', 'points': '5', 'x_position': 0, 'y_position': 15}\n"
     ]
    }
   ],
   "source": [
    "alien_12['x_position'] = 0\n",
    "alien_12['y_position'] = 15\n",
    "\n",
    "print(alien_12)"
   ]
  },
  {
   "cell_type": "code",
   "execution_count": null,
   "metadata": {},
   "outputs": [],
   "source": []
  },
  {
   "cell_type": "code",
   "execution_count": 12,
   "metadata": {},
   "outputs": [
    {
     "name": "stdout",
     "output_type": "stream",
     "text": [
      "you just earned 5 points\n"
     ]
    }
   ],
   "source": [
    "new_points = alien_12['points']\n",
    "\n",
    "print(f\"you just earned {new_points} points\")"
   ]
  },
  {
   "cell_type": "code",
   "execution_count": null,
   "metadata": {},
   "outputs": [],
   "source": []
  },
  {
   "cell_type": "code",
   "execution_count": 16,
   "metadata": {},
   "outputs": [
    {
     "name": "stdout",
     "output_type": "stream",
     "text": [
      "The alien is in yellow\n"
     ]
    }
   ],
   "source": [
    "\n",
    "      \n",
    "alien_12['colour'] = 'yellow'  \n",
    "      \n",
    "print(f\"The alien is in {alien_12['colour']}\")"
   ]
  },
  {
   "cell_type": "code",
   "execution_count": null,
   "metadata": {},
   "outputs": [],
   "source": []
  },
  {
   "cell_type": "code",
   "execution_count": 17,
   "metadata": {},
   "outputs": [
    {
     "name": "stdout",
     "output_type": "stream",
     "text": [
      "{'alien': 'green', 'points': '5', 'y_position': 15, 'colour': 'yellow'}\n"
     ]
    }
   ],
   "source": [
    "del alien_12['x_position']\n",
    "\n",
    "print(alien_12)"
   ]
  },
  {
   "cell_type": "code",
   "execution_count": null,
   "metadata": {},
   "outputs": [],
   "source": []
  }
 ],
 "metadata": {
  "kernelspec": {
   "display_name": "Python 3",
   "language": "python",
   "name": "python3"
  },
  "language_info": {
   "codemirror_mode": {
    "name": "ipython",
    "version": 3
   },
   "file_extension": ".py",
   "mimetype": "text/x-python",
   "name": "python",
   "nbconvert_exporter": "python",
   "pygments_lexer": "ipython3",
   "version": "3.7.6"
  }
 },
 "nbformat": 4,
 "nbformat_minor": 4
}
